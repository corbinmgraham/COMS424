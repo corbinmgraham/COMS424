{
 "cells": [
  {
   "cell_type": "code",
   "execution_count": 1,
   "source": [
    "import demo_pythonlist as dp"
   ],
   "outputs": [],
   "metadata": {}
  },
  {
   "cell_type": "code",
   "execution_count": 2,
   "source": [
    "# Define List\n",
    "my_list = [\n",
    "    \"Pizza\",\n",
    "    \"Should\",\n",
    "    \"Always\",\n",
    "    \"Be\",\n",
    "    \"Free\",\n",
    "    \"On\",\n",
    "    \"Fridays\"\n",
    "]\n",
    "\n",
    "print(my_list)"
   ],
   "outputs": [
    {
     "output_type": "stream",
     "name": "stdout",
     "text": [
      "['Pizza', 'Should', 'Always', 'Be', 'Free', 'On', 'Fridays']\n"
     ]
    }
   ],
   "metadata": {}
  },
  {
   "cell_type": "code",
   "execution_count": 3,
   "source": [
    "# Append Test\n",
    "dp.append_test(my_list)\n",
    "print(my_list)"
   ],
   "outputs": [
    {
     "output_type": "stream",
     "name": "stdout",
     "text": [
      "['Pizza', 'Should', 'Always', 'Be', 'Free', 'On', 'Fridays', '<- This is True']\n"
     ]
    }
   ],
   "metadata": {}
  },
  {
   "cell_type": "code",
   "execution_count": 4,
   "source": [
    "# Copy Test\n",
    "dp.copy_test(my_list)\n",
    "print(my_list)"
   ],
   "outputs": [
    {
     "output_type": "stream",
     "name": "stdout",
     "text": [
      "['Pizza', 'Should', 'Always', 'Be', 'Free', 'On', 'Fridays', '<- This is True', '<- False']\n",
      "['Pizza', 'Should', 'Always', 'Be', 'Free', 'On', 'Fridays', '<- This is True']\n"
     ]
    }
   ],
   "metadata": {}
  },
  {
   "cell_type": "code",
   "execution_count": 5,
   "source": [
    "# Count Test\n",
    "print(dp.count_test(my_list))\n",
    "my_list.append(\"Pizza\")\n",
    "print(dp.count_test(my_list))"
   ],
   "outputs": [
    {
     "output_type": "stream",
     "name": "stdout",
     "text": [
      "Counted 1 Pizzas!\n",
      "Counted 2 Pizzas!\n"
     ]
    }
   ],
   "metadata": {}
  },
  {
   "cell_type": "code",
   "execution_count": 6,
   "source": [
    "# Extend Test\n",
    "print(my_list)\n",
    "my_list.append([\"SUPER\", \"PIZZA\"])\n",
    "print(my_list)\n",
    "my_list.extend([\"SUPER\", \"PIZZA\"])\n",
    "print(my_list)"
   ],
   "outputs": [
    {
     "output_type": "stream",
     "name": "stdout",
     "text": [
      "['Pizza', 'Should', 'Always', 'Be', 'Free', 'On', 'Fridays', '<- This is True', 'Pizza']\n",
      "['Pizza', 'Should', 'Always', 'Be', 'Free', 'On', 'Fridays', '<- This is True', 'Pizza', ['SUPER', 'PIZZA']]\n",
      "['Pizza', 'Should', 'Always', 'Be', 'Free', 'On', 'Fridays', '<- This is True', 'Pizza', ['SUPER', 'PIZZA'], 'SUPER', 'PIZZA']\n"
     ]
    }
   ],
   "metadata": {}
  },
  {
   "cell_type": "code",
   "execution_count": 7,
   "source": [
    "# Index Test\n",
    "my_list.index('Should')"
   ],
   "outputs": [
    {
     "output_type": "execute_result",
     "data": {
      "text/plain": [
       "1"
      ]
     },
     "metadata": {},
     "execution_count": 7
    }
   ],
   "metadata": {}
  },
  {
   "cell_type": "code",
   "execution_count": 8,
   "source": [
    "# Insert Test\n",
    "my_list.insert(0, 'The')\n",
    "print(my_list)"
   ],
   "outputs": [
    {
     "output_type": "stream",
     "name": "stdout",
     "text": [
      "['The', 'Pizza', 'Should', 'Always', 'Be', 'Free', 'On', 'Fridays', '<- This is True', 'Pizza', ['SUPER', 'PIZZA'], 'SUPER', 'PIZZA']\n"
     ]
    }
   ],
   "metadata": {}
  },
  {
   "cell_type": "code",
   "execution_count": 9,
   "source": [
    "# Pop Test\n",
    "print(my_list.pop())\n",
    "print(my_list)"
   ],
   "outputs": [
    {
     "output_type": "stream",
     "name": "stdout",
     "text": [
      "PIZZA\n",
      "['The', 'Pizza', 'Should', 'Always', 'Be', 'Free', 'On', 'Fridays', '<- This is True', 'Pizza', ['SUPER', 'PIZZA'], 'SUPER']\n"
     ]
    }
   ],
   "metadata": {}
  },
  {
   "cell_type": "code",
   "execution_count": 10,
   "source": [
    "# Remove Test\n",
    "my_list.remove('<- This is True')\n",
    "print(my_list)"
   ],
   "outputs": [
    {
     "output_type": "stream",
     "name": "stdout",
     "text": [
      "['The', 'Pizza', 'Should', 'Always', 'Be', 'Free', 'On', 'Fridays', 'Pizza', ['SUPER', 'PIZZA'], 'SUPER']\n"
     ]
    }
   ],
   "metadata": {}
  },
  {
   "cell_type": "code",
   "execution_count": 11,
   "source": [
    "# Reverse Test\n",
    "my_list.reverse()\n",
    "my_list.pop(1)\n",
    "print(my_list)"
   ],
   "outputs": [
    {
     "output_type": "stream",
     "name": "stdout",
     "text": [
      "['SUPER', 'Pizza', 'Fridays', 'On', 'Free', 'Be', 'Always', 'Should', 'Pizza', 'The']\n"
     ]
    }
   ],
   "metadata": {}
  },
  {
   "cell_type": "code",
   "execution_count": 12,
   "source": [
    "my_list.sort()\n",
    "print(my_list)"
   ],
   "outputs": [
    {
     "output_type": "stream",
     "name": "stdout",
     "text": [
      "['Always', 'Be', 'Free', 'Fridays', 'On', 'Pizza', 'Pizza', 'SUPER', 'Should', 'The']\n"
     ]
    }
   ],
   "metadata": {}
  },
  {
   "cell_type": "code",
   "execution_count": 13,
   "source": [
    "# Clear Test\n",
    "my_list.clear()\n",
    "print(my_list)\n",
    "print(len(my_list))"
   ],
   "outputs": [
    {
     "output_type": "stream",
     "name": "stdout",
     "text": [
      "[]\n",
      "0\n"
     ]
    }
   ],
   "metadata": {}
  },
  {
   "cell_type": "code",
   "execution_count": null,
   "source": [],
   "outputs": [],
   "metadata": {}
  }
 ],
 "metadata": {
  "orig_nbformat": 4,
  "language_info": {
   "name": "python",
   "version": "3.11.4",
   "mimetype": "text/x-python",
   "codemirror_mode": {
    "name": "ipython",
    "version": 3
   },
   "pygments_lexer": "ipython3",
   "nbconvert_exporter": "python",
   "file_extension": ".py"
  },
  "kernelspec": {
   "name": "python3",
   "display_name": "Python 3.11.4 64-bit"
  },
  "interpreter": {
   "hash": "aee8b7b246df8f9039afb4144a1f6fd8d2ca17a180786b69acc140d282b71a49"
  }
 },
 "nbformat": 4,
 "nbformat_minor": 2
}