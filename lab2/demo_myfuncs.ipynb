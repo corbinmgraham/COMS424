{
 "cells": [
  {
   "cell_type": "code",
   "execution_count": 1,
   "source": [
    "# Import modules #\n",
    "import myfuncs as my\n",
    "import numpy as np"
   ],
   "outputs": [],
   "metadata": {}
  },
  {
   "cell_type": "code",
   "execution_count": 2,
   "source": [
    "# Testing SQRT\n",
    "print(\"MyFunc:\", my.sqrt(3.7))\n",
    "print(\"NumPy:\", np.sqrt(3.7))\n",
    "print(\"Difference:\", np.abs(my.sqrt(3.7)-np.sqrt(3.7)))"
   ],
   "outputs": [
    {
     "output_type": "stream",
     "name": "stdout",
     "text": [
      "MyFunc: 1.9235384061671346\n",
      "NumPy: 1.9235384061671346\n",
      "Difference: 0.0\n"
     ]
    }
   ],
   "metadata": {}
  },
  {
   "cell_type": "code",
   "execution_count": 3,
   "source": [
    "# Testing EXP\n",
    "print(\"MyFunc:\", my.exp(3.7))\n",
    "print(\"NumPy:\", np.exp(3.7))\n",
    "print(\"Difference:\", np.abs(my.exp(3.7)-np.exp(3.7)))"
   ],
   "outputs": [
    {
     "output_type": "stream",
     "name": "stdout",
     "text": [
      "MyFunc: 40.44730435958527\n",
      "NumPy: 40.4473043600674\n",
      "Difference: 4.821316679226584e-10\n"
     ]
    }
   ],
   "metadata": {}
  },
  {
   "cell_type": "code",
   "execution_count": 4,
   "source": [
    "# Testing LN\n",
    "print(\"MyFunc:\", my.ln(3.7))\n",
    "print(\"NumPy:\", np.log(3.7))\n",
    "print(\"Difference:\", np.abs(my.ln(3.7)-np.log(3.7)))"
   ],
   "outputs": [
    {
     "output_type": "stream",
     "name": "stdout",
     "text": [
      "MyFunc: 1.308332819653159\n",
      "NumPy: 1.3083328196501787\n",
      "Difference: 2.9802826873037702e-12\n"
     ]
    }
   ],
   "metadata": {}
  }
 ],
 "metadata": {
  "orig_nbformat": 4,
  "language_info": {
   "name": "python",
   "version": "3.11.4",
   "mimetype": "text/x-python",
   "codemirror_mode": {
    "name": "ipython",
    "version": 3
   },
   "pygments_lexer": "ipython3",
   "nbconvert_exporter": "python",
   "file_extension": ".py"
  },
  "kernelspec": {
   "name": "python3",
   "display_name": "Python 3.11.4 64-bit"
  },
  "interpreter": {
   "hash": "aee8b7b246df8f9039afb4144a1f6fd8d2ca17a180786b69acc140d282b71a49"
  }
 },
 "nbformat": 4,
 "nbformat_minor": 2
}